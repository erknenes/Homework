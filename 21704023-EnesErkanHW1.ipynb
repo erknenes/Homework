{
 "cells": [
  {
   "cell_type": "code",
   "execution_count": null,
   "metadata": {},
   "outputs": [],
   "source": [
    "k=int(input( 'enter k number: , '))\n",
    "l=int(input( 'enter l number: , '))\n",
    "m=int(input( 'enter m number: , '))\n",
    "F= (l**2)-4*k*m\n",
    "print('diskriminant:  ' , F)\n",
    "x1 = (-l-F**0.5)/(2*k)\n",
    "x2 = (-l+F**0.5)/(2*k)\n",
    "print( 'x1:' ,(-l - F**0.5)/(2*k))\n",
    "print( 'x2:' ,(-l + F**0.5)/(2*k))"
   ]
  },
  {
   "cell_type": "code",
   "execution_count": null,
   "metadata": {},
   "outputs": [],
   "source": []
  }
 ],
 "metadata": {
  "kernelspec": {
   "display_name": "Python 3",
   "language": "python",
   "name": "python3"
  },
  "language_info": {
   "codemirror_mode": {
    "name": "ipython",
    "version": 3
   },
   "file_extension": ".py",
   "mimetype": "text/x-python",
   "name": "python",
   "nbconvert_exporter": "python",
   "pygments_lexer": "ipython3",
   "version": "3.6.5"
  }
 },
 "nbformat": 4,
 "nbformat_minor": 2
}
