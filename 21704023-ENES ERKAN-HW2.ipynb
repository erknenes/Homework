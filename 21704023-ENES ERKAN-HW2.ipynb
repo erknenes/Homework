{
 "cells": [
  {
   "cell_type": "code",
   "execution_count": 15,
   "metadata": {},
   "outputs": [
    {
     "name": "stdout",
     "output_type": "stream",
     "text": [
      "1 , 2 , 3 SAYILARINDAN BİRİNİ SEÇİNİZ 3\n",
      "6 SAYININ ARİTMETİK ORTALAMASI HESAPLANACAKTIR\n",
      "BİRİNCİ SAYIYI GİRİNİZ: 1.5\n",
      "İKİNCİ SAYIYI GİRİNİZ: 2.8\n",
      "ÜÇÜNCÜ SAYIYI GİRİNİZ: 5\n",
      "DÖRDÜNCÜ SAYIYI GİRİNİZ: 56\n",
      "BEŞİNCİ SAYIYI GİRİNİZ: 5\n",
      "ALTINCI SAYIYI GİRİNİZ: 5\n",
      "12.549999999999999\n"
     ]
    }
   ],
   "source": [
    "sayı = float(input(\"1 , 2 , 3 SAYILARINDAN BİRİNİ SEÇİNİZ \"))\n",
    "if sayı==1:\n",
    "    print(\"DİK ÜÇGENİN İKİ KENARINI YAZINIZ\")\n",
    "    k=float(input(\"K KENARINI GİRİNİZ \"))\n",
    "    l=float(input(\"L KENARINI GİRİNİZ \"))\n",
    "    hipotenüs=(k**2+l**2)**0.5\n",
    "    print(\"ÜÇGENİNİZİN HİPOTENÜSÜ:\" , hipotenüs)\n",
    "    \n",
    "if sayı==2:\n",
    "    print(\"SEÇTİĞİNİZ SAYIYA KADAR SIRALAMA YAPILACAKTIR\")\n",
    "    a = 0\n",
    "    y=float(input(\"SAYI GİRİNİZ :  \"))\n",
    "    while a < y:\n",
    "        a+=1\n",
    "        print(a)\n",
    "    \n",
    "if sayı==3:\n",
    "    print(\"6 SAYININ ARİTMETİK ORTALAMASI HESAPLANACAKTIR\")\n",
    "    sayı1 = float(input(\"BİRİNCİ SAYIYI GİRİNİZ: \"))\n",
    "    sayı2 = float(input(\"İKİNCİ SAYIYI GİRİNİZ: \"))\n",
    "    sayı3 = float(input(\"ÜÇÜNCÜ SAYIYI GİRİNİZ: \"))\n",
    "    sayı4 = float(input(\"DÖRDÜNCÜ SAYIYI GİRİNİZ: \"))\n",
    "    sayı5 = float(input(\"BEŞİNCİ SAYIYI GİRİNİZ: \"))\n",
    "    sayı6 = float(input(\"ALTINCI SAYIYI GİRİNİZ: \"))\n",
    "    \n",
    "    ortalama=(sayı1+sayı2+sayı3+sayı4+sayı5+sayı6)/6\n",
    "    print(ortalama)    \n",
    "    \n",
    "\n",
    "if sayı<3 and sayı>2:\n",
    "    print(\" PROGRAMI YENİDEN BAŞLATIN VE 1,2,3 SAYILARINDAN BİRİNİ SEÇİN\")\n",
    "    \n",
    "if sayı<2 and sayı>1:\n",
    "    print(\"PROGRAMI YENİDEN BAŞLATIN VE 1,2,3 SAYILARINDAN BİRİNİ SEÇİN\")    \n",
    "    \n",
    "if sayı < 1:\n",
    "    print(\"PROGRAMI YENİDEN BAŞLATIN VE 1,2,3 SAYILARINDAN BİRİNİ SEÇİN\")\n",
    "    \n",
    "if sayı > 3:\n",
    "    print(\"PROGRAMI YENİDEN BAŞLATIN VE 1,2,3 SAYILARINDAN BİRİNİ SEÇİN\")     \n",
    "    \n",
    "   "
   ]
  },
  {
   "cell_type": "code",
   "execution_count": null,
   "metadata": {},
   "outputs": [],
   "source": []
  }
 ],
 "metadata": {
  "kernelspec": {
   "display_name": "Python 3",
   "language": "python",
   "name": "python3"
  },
  "language_info": {
   "codemirror_mode": {
    "name": "ipython",
    "version": 3
   },
   "file_extension": ".py",
   "mimetype": "text/x-python",
   "name": "python",
   "nbconvert_exporter": "python",
   "pygments_lexer": "ipython3",
   "version": "3.6.5"
  }
 },
 "nbformat": 4,
 "nbformat_minor": 2
}
